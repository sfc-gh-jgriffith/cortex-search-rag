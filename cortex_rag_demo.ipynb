{
 "cells": [
  {
   "cell_type": "code",
   "execution_count": 1,
   "metadata": {},
   "outputs": [],
   "source": [
    "from snowflake.core import Root\n",
    "from snowflake.snowpark import Session\n",
    "from snowflake.snowpark.functions import udtf, col\n",
    "from snowflake.snowpark.types import StringType, IntegerType, StructType, StructField\n",
    "from snowflake.cortex import Complete\n",
    "\n",
    "import langchain\n",
    "\n",
    "import json\n",
    "\n",
    "import logging\n",
    "logging.basicConfig(level=logging.ERROR)"
   ]
  },
  {
   "cell_type": "code",
   "execution_count": 2,
   "metadata": {},
   "outputs": [],
   "source": [
    "connection_parameters = json.load(open('connection.json'))\n",
    "session = Session.builder.configs(connection_parameters).create()\n",
    "session.sql_simplifier_enabled = True"
   ]
  },
  {
   "cell_type": "code",
   "execution_count": 3,
   "metadata": {},
   "outputs": [
    {
     "data": {
      "text/plain": [
       "[Row(status='Statement executed successfully.')]"
      ]
     },
     "execution_count": 3,
     "metadata": {},
     "output_type": "execute_result"
    }
   ],
   "source": [
    "# create database\n",
    "session.sql('create database if not exists sec_cortex_demo').collect()\n",
    "session.sql('use schema sec_cortex_demo.public').collect()"
   ]
  },
  {
   "cell_type": "markdown",
   "metadata": {},
   "source": [
    "### Test Complete with foundation models"
   ]
  },
  {
   "cell_type": "code",
   "execution_count": 4,
   "metadata": {},
   "outputs": [
    {
     "data": {
      "text/plain": [
       "\" I don't have real-time access to Snowflake's internal data, but I can provide you with some publicly available information. According to Snowflake's Q3 2022 earnings report, they had approximately 5,300 active customers as of October 31, 2022. This number includes both paid and free trial customers. Please note that this figure may not reflect the exact number of unique organizations using Snowflake, as some organizations may have multiple accounts or departments using the platform. For the most accurate and up-to-date information, I would recommend checking Snowflake's investor relations website or contacting their investor relations team directly.\""
      ]
     },
     "execution_count": 4,
     "metadata": {},
     "output_type": "execute_result"
    }
   ],
   "source": [
    "Complete('mistral-7b',\n",
    "         'How many customers does Snowflake have?')"
   ]
  },
  {
   "cell_type": "code",
   "execution_count": 5,
   "metadata": {},
   "outputs": [
    {
     "data": {
      "text/plain": [
       "\" I don't have real-time data access to provide the current number of customers Snowflake has. As of a certain point in time, Snowflake, the cloud-based data warehousing platform, had several thousand customers worldwide. However, for the most accurate and up-to-date information, I would recommend checking Snowflake's official website or their latest press releases.\""
      ]
     },
     "execution_count": 5,
     "metadata": {},
     "output_type": "execute_result"
    }
   ],
   "source": [
    "Complete('mistral-large',\n",
    "         'How many customers does Snowflake have?')"
   ]
  },
  {
   "cell_type": "markdown",
   "metadata": {},
   "source": [
    "### Prepare dataset for RAG\n",
    "1. Get [Cybersyn LLM Training Essentials](https://app.snowflake.com/marketplace/listing/GZTSZ290BUX1X/cybersyn-llm-training-essentials) dataset from Snowflake Marketplace.\n",
    "2. Create dataset for all companies with SIC code 7323.\n",
    "3. Create UDTF for chunking data.\n",
    "4. Chunk and embed data using [SNOWFLAKE.CORTEX.EMBED_TEXT_768](https://docs.snowflake.com/en/sql-reference/functions/embed_text-snowflake-cortex)."
   ]
  },
  {
   "cell_type": "code",
   "execution_count": 6,
   "metadata": {},
   "outputs": [
    {
     "data": {
      "text/plain": [
       "[Row(status='Table SEC_REPORTS_BASE successfully created.')]"
      ]
     },
     "execution_count": 6,
     "metadata": {},
     "output_type": "execute_result"
    }
   ],
   "source": [
    "# join tables from Cybersyn LLM Training Essentials dataset. \n",
    "session.sql(\n",
    "\"\"\"\n",
    "create or replace table sec_reports_base as \n",
    "SELECT\n",
    "    txt.sec_document_id,\n",
    "    companies.cik,\n",
    "    txt.variable_name as document_type,\n",
    "    companies.company_name,\n",
    "    companies.sic_code_category,\n",
    "    companies.sic_code_description,\n",
    "    companies.country,\n",
    "    txt.period_end_date,\n",
    "    txt.value\n",
    "FROM \n",
    "    llm_training_essentials.cybersyn.sec_report_text_attributes AS txt\n",
    "    JOIN llm_training_essentials.cybersyn.sec_cik_index AS companies ON (companies.cik = txt.cik)\n",
    "WHERE \n",
    "    txt.period_end_date >= '2020-01-01'\n",
    "    and document_type = '10-K Filing Text'\n",
    "    and companies.sic = 7372\n",
    "qualify \n",
    "    row_number() over (partition by companies.cik order by period_end_date desc) = 1; \n",
    "\"\"\"\n",
    ").collect()"
   ]
  },
  {
   "cell_type": "code",
   "execution_count": 7,
   "metadata": {},
   "outputs": [
    {
     "data": {
      "text/html": [
       "<div>\n",
       "<style scoped>\n",
       "    .dataframe tbody tr th:only-of-type {\n",
       "        vertical-align: middle;\n",
       "    }\n",
       "\n",
       "    .dataframe tbody tr th {\n",
       "        vertical-align: top;\n",
       "    }\n",
       "\n",
       "    .dataframe thead th {\n",
       "        text-align: right;\n",
       "    }\n",
       "</style>\n",
       "<table border=\"1\" class=\"dataframe\">\n",
       "  <thead>\n",
       "    <tr style=\"text-align: right;\">\n",
       "      <th></th>\n",
       "      <th>SEC_DOCUMENT_ID</th>\n",
       "      <th>CIK</th>\n",
       "      <th>DOCUMENT_TYPE</th>\n",
       "      <th>COMPANY_NAME</th>\n",
       "      <th>SIC_CODE_CATEGORY</th>\n",
       "      <th>SIC_CODE_DESCRIPTION</th>\n",
       "      <th>COUNTRY</th>\n",
       "      <th>PERIOD_END_DATE</th>\n",
       "      <th>VALUE</th>\n",
       "    </tr>\n",
       "  </thead>\n",
       "  <tbody>\n",
       "    <tr>\n",
       "      <th>0</th>\n",
       "      <td>0001866633-24-000004_10-K</td>\n",
       "      <td>0001866633</td>\n",
       "      <td>10-K Filing Text</td>\n",
       "      <td>CONSENSUS CLOUD SOLUTIONS, INC.</td>\n",
       "      <td>Office of Technology</td>\n",
       "      <td>SERVICES-PREPACKAGED SOFTWARE</td>\n",
       "      <td>US</td>\n",
       "      <td>2023-12-31</td>\n",
       "      <td>\\n \\n \\n ccs-20231231 UNITED STATES SECURITIES...</td>\n",
       "    </tr>\n",
       "    <tr>\n",
       "      <th>1</th>\n",
       "      <td>0001845022-24-000020_10-K</td>\n",
       "      <td>0001845022</td>\n",
       "      <td>10-K Filing Text</td>\n",
       "      <td>COUCHBASE, INC.</td>\n",
       "      <td>Office of Technology</td>\n",
       "      <td>SERVICES-PREPACKAGED SOFTWARE</td>\n",
       "      <td>US</td>\n",
       "      <td>2024-01-31</td>\n",
       "      <td>\\n \\n \\n \\n \\n \\n base-20240131 Table of Conte...</td>\n",
       "    </tr>\n",
       "    <tr>\n",
       "      <th>2</th>\n",
       "      <td>0001213900-23-081208_10-K</td>\n",
       "      <td>0001807166</td>\n",
       "      <td>10-K Filing Text</td>\n",
       "      <td>AMESITE INC.</td>\n",
       "      <td>Office of Technology</td>\n",
       "      <td>SERVICES-PREPACKAGED SOFTWARE</td>\n",
       "      <td>US</td>\n",
       "      <td>2023-06-30</td>\n",
       "      <td>\\n \\n \\n \\n \\n \\n   \\n \\n \\n \\n \\n   \\n   \\n U...</td>\n",
       "    </tr>\n",
       "    <tr>\n",
       "      <th>3</th>\n",
       "      <td>0001107843-24-000008_10-K</td>\n",
       "      <td>0001107843</td>\n",
       "      <td>10-K Filing Text</td>\n",
       "      <td>QUALYS, INC.</td>\n",
       "      <td>Office of Technology</td>\n",
       "      <td>SERVICES-PREPACKAGED SOFTWARE</td>\n",
       "      <td>US</td>\n",
       "      <td>2023-12-31</td>\n",
       "      <td>\\n \\n \\n qlys-20231231 Table of  Contents UNIT...</td>\n",
       "    </tr>\n",
       "    <tr>\n",
       "      <th>4</th>\n",
       "      <td>0001628280-24-007825_10-K</td>\n",
       "      <td>0001866368</td>\n",
       "      <td>10-K Filing Text</td>\n",
       "      <td>CLEARWATER ANALYTICS HOLDINGS, INC.</td>\n",
       "      <td>Office of Technology</td>\n",
       "      <td>SERVICES-PREPACKAGED SOFTWARE</td>\n",
       "      <td>US</td>\n",
       "      <td>2023-12-31</td>\n",
       "      <td>\\n \\n \\n cwan-20231231 Table of Contents UNITE...</td>\n",
       "    </tr>\n",
       "    <tr>\n",
       "      <th>5</th>\n",
       "      <td>0000950170-23-066654_10-K</td>\n",
       "      <td>0001768267</td>\n",
       "      <td>10-K Filing Text</td>\n",
       "      <td>CERENCE INC.</td>\n",
       "      <td>Office of Technology</td>\n",
       "      <td>SERVICES-PREPACKAGED SOFTWARE</td>\n",
       "      <td>US</td>\n",
       "      <td>2023-09-30</td>\n",
       "      <td>\\n \\n \\n \\n 10-K \\n \\n \\n \\n \\n   \\n   \\n UNIT...</td>\n",
       "    </tr>\n",
       "    <tr>\n",
       "      <th>6</th>\n",
       "      <td>0001437749-24-008626_10-K</td>\n",
       "      <td>0000803578</td>\n",
       "      <td>10-K Filing Text</td>\n",
       "      <td>WAVEDANCER, INC.</td>\n",
       "      <td>Office of Technology</td>\n",
       "      <td>SERVICES-PREPACKAGED SOFTWARE</td>\n",
       "      <td>US</td>\n",
       "      <td>2023-12-31</td>\n",
       "      <td>\\n \\n \\n \\n wavd20231231_10k.htm \\n \\n \\n \\n \\...</td>\n",
       "    </tr>\n",
       "    <tr>\n",
       "      <th>7</th>\n",
       "      <td>0001459200-24-000008_10-K</td>\n",
       "      <td>0001459200</td>\n",
       "      <td>10-K Filing Text</td>\n",
       "      <td>ALARM.COM HOLDINGS, INC.</td>\n",
       "      <td>Office of Technology</td>\n",
       "      <td>SERVICES-PREPACKAGED SOFTWARE</td>\n",
       "      <td>US</td>\n",
       "      <td>2023-12-31</td>\n",
       "      <td>\\n \\n \\n alrm-20231231 UNITED STATES SECURITIE...</td>\n",
       "    </tr>\n",
       "    <tr>\n",
       "      <th>8</th>\n",
       "      <td>0001689923-24-000006_10-K</td>\n",
       "      <td>0001689923</td>\n",
       "      <td>10-K Filing Text</td>\n",
       "      <td>ALTERYX, INC.</td>\n",
       "      <td>Office of Technology</td>\n",
       "      <td>SERVICES-PREPACKAGED SOFTWARE</td>\n",
       "      <td>US</td>\n",
       "      <td>2023-12-31</td>\n",
       "      <td>\\n \\n \\n ayx-20231231 UNITED STATES SECURITIES...</td>\n",
       "    </tr>\n",
       "    <tr>\n",
       "      <th>9</th>\n",
       "      <td>0001773383-23-000055_10-K</td>\n",
       "      <td>0001773383</td>\n",
       "      <td>10-K Filing Text</td>\n",
       "      <td>DYNATRACE, INC.</td>\n",
       "      <td>Office of Technology</td>\n",
       "      <td>SERVICES-PREPACKAGED SOFTWARE</td>\n",
       "      <td>US</td>\n",
       "      <td>2023-03-31</td>\n",
       "      <td>\\n \\n dt-20230331 UNITED STATES SECURITIES AND...</td>\n",
       "    </tr>\n",
       "  </tbody>\n",
       "</table>\n",
       "</div>"
      ],
      "text/plain": [
       "             SEC_DOCUMENT_ID         CIK     DOCUMENT_TYPE  \\\n",
       "0  0001866633-24-000004_10-K  0001866633  10-K Filing Text   \n",
       "1  0001845022-24-000020_10-K  0001845022  10-K Filing Text   \n",
       "2  0001213900-23-081208_10-K  0001807166  10-K Filing Text   \n",
       "3  0001107843-24-000008_10-K  0001107843  10-K Filing Text   \n",
       "4  0001628280-24-007825_10-K  0001866368  10-K Filing Text   \n",
       "5  0000950170-23-066654_10-K  0001768267  10-K Filing Text   \n",
       "6  0001437749-24-008626_10-K  0000803578  10-K Filing Text   \n",
       "7  0001459200-24-000008_10-K  0001459200  10-K Filing Text   \n",
       "8  0001689923-24-000006_10-K  0001689923  10-K Filing Text   \n",
       "9  0001773383-23-000055_10-K  0001773383  10-K Filing Text   \n",
       "\n",
       "                          COMPANY_NAME     SIC_CODE_CATEGORY  \\\n",
       "0      CONSENSUS CLOUD SOLUTIONS, INC.  Office of Technology   \n",
       "1                      COUCHBASE, INC.  Office of Technology   \n",
       "2                         AMESITE INC.  Office of Technology   \n",
       "3                         QUALYS, INC.  Office of Technology   \n",
       "4  CLEARWATER ANALYTICS HOLDINGS, INC.  Office of Technology   \n",
       "5                         CERENCE INC.  Office of Technology   \n",
       "6                     WAVEDANCER, INC.  Office of Technology   \n",
       "7             ALARM.COM HOLDINGS, INC.  Office of Technology   \n",
       "8                        ALTERYX, INC.  Office of Technology   \n",
       "9                      DYNATRACE, INC.  Office of Technology   \n",
       "\n",
       "            SIC_CODE_DESCRIPTION COUNTRY PERIOD_END_DATE  \\\n",
       "0  SERVICES-PREPACKAGED SOFTWARE      US      2023-12-31   \n",
       "1  SERVICES-PREPACKAGED SOFTWARE      US      2024-01-31   \n",
       "2  SERVICES-PREPACKAGED SOFTWARE      US      2023-06-30   \n",
       "3  SERVICES-PREPACKAGED SOFTWARE      US      2023-12-31   \n",
       "4  SERVICES-PREPACKAGED SOFTWARE      US      2023-12-31   \n",
       "5  SERVICES-PREPACKAGED SOFTWARE      US      2023-09-30   \n",
       "6  SERVICES-PREPACKAGED SOFTWARE      US      2023-12-31   \n",
       "7  SERVICES-PREPACKAGED SOFTWARE      US      2023-12-31   \n",
       "8  SERVICES-PREPACKAGED SOFTWARE      US      2023-12-31   \n",
       "9  SERVICES-PREPACKAGED SOFTWARE      US      2023-03-31   \n",
       "\n",
       "                                               VALUE  \n",
       "0  \\n \\n \\n ccs-20231231 UNITED STATES SECURITIES...  \n",
       "1  \\n \\n \\n \\n \\n \\n base-20240131 Table of Conte...  \n",
       "2  \\n \\n \\n \\n \\n \\n   \\n \\n \\n \\n \\n   \\n   \\n U...  \n",
       "3  \\n \\n \\n qlys-20231231 Table of  Contents UNIT...  \n",
       "4  \\n \\n \\n cwan-20231231 Table of Contents UNITE...  \n",
       "5  \\n \\n \\n \\n 10-K \\n \\n \\n \\n \\n   \\n   \\n UNIT...  \n",
       "6  \\n \\n \\n \\n wavd20231231_10k.htm \\n \\n \\n \\n \\...  \n",
       "7  \\n \\n \\n alrm-20231231 UNITED STATES SECURITIE...  \n",
       "8  \\n \\n \\n ayx-20231231 UNITED STATES SECURITIES...  \n",
       "9  \\n \\n dt-20230331 UNITED STATES SECURITIES AND...  "
      ]
     },
     "execution_count": 7,
     "metadata": {},
     "output_type": "execute_result"
    }
   ],
   "source": [
    "session.table(\"SEC_REPORTS_BASE\").limit(10).to_pandas()"
   ]
  },
  {
   "cell_type": "code",
   "execution_count": 8,
   "metadata": {},
   "outputs": [],
   "source": [
    "# Create chunking UDTF\n",
    "# Experiment with chunk size and overlap\n",
    "session.sql('create stage if not exists udtf_stage').collect()\n",
    "@udtf(name=\"CHUNK_TEXT\", \n",
    "      is_permanent=True, \n",
    "      packages=[\"langchain\",\"pandas\"], \n",
    "      stage_location = '@udtf_stage',\n",
    "      input_types=[StringType()],\n",
    "      output_schema=StructType([StructField('chunk', StringType()), StructField('start_index', IntegerType())]),\n",
    "      replace=True)\n",
    "class text_chunker:\n",
    "    def process(self,text): \n",
    "        from langchain.text_splitter import RecursiveCharacterTextSplitter\n",
    "        import pandas as pd       \n",
    "        text_raw=[]\n",
    "        text_raw.append(text) \n",
    "        \n",
    "        text_splitter = RecursiveCharacterTextSplitter(\n",
    "            separators = [\"\\\\n\", \". \" ], # Define an appropriate separator. New line is good typically!\n",
    "            chunk_size = 1000, #Adjust this as you see fit\n",
    "            chunk_overlap  = 200, #This lets text have some form of overlap. Useful for keeping chunks contextual\n",
    "            length_function = len,\n",
    "            keep_separator = False,\n",
    "            add_start_index = True #Optional but useful if you'd like to feed the chunk before/after\n",
    "        )\n",
    "    \n",
    "        chunks = text_splitter.create_documents(text_raw)\n",
    "        df = pd.DataFrame(chunks, columns=['chunks','meta'])\n",
    "\n",
    "        df['meta'] = df['meta'].apply(lambda x: x[1]['start_index']).astype(int)\n",
    "        df['chunks'] = df['chunks'].apply(lambda x: x[1])\n",
    "        \n",
    "        yield from df.itertuples(index=False, name=None)"
   ]
  },
  {
   "cell_type": "code",
   "execution_count": 9,
   "metadata": {},
   "outputs": [
    {
     "data": {
      "text/plain": [
       "[Row(status='Table CONTENT_CHUNKS_10K successfully created.')]"
      ]
     },
     "execution_count": 9,
     "metadata": {},
     "output_type": "execute_result"
    }
   ],
   "source": [
    "# chunk dataset and embed content using snowflake.cortex.embed_text_768\n",
    "session.sql(\n",
    "\"\"\"\n",
    "create or replace table content_chunks_10k as \n",
    "select \n",
    "    sec_document_id,\n",
    "    document_type,\n",
    "    company_name,\n",
    "    sic_code_category,\n",
    "    sic_code_description,\n",
    "    country,\n",
    "    period_end_date,\n",
    "    chunk as content_chunk,\n",
    "    snowflake.cortex.embed_text_768('e5-base-v2', content_chunk) embedding,\n",
    "    start_index,\n",
    "    row_number() over (partition by sec_document_id order by sec_document_id, start_index) as document_index_rownum,\n",
    "    row_number() over (order by sec_document_id, start_index) as rownum\n",
    "from \n",
    "    sec_reports_base,\n",
    "    table(chunk_text(value))\n",
    "\"\"\").collect()"
   ]
  },
  {
   "cell_type": "markdown",
   "metadata": {},
   "source": [
    "#### Examine the chunks"
   ]
  },
  {
   "cell_type": "code",
   "execution_count": 10,
   "metadata": {},
   "outputs": [
    {
     "data": {
      "text/plain": [
       "[Row(SEC_DOCUMENT_ID='0001640147-24-000101_10-K', DOCUMENT_TYPE='10-K Filing Text', COMPANY_NAME='SNOWFLAKE INC.', SIC_CODE_CATEGORY='Office of Technology', SIC_CODE_DESCRIPTION='SERVICES-PREPACKAGED SOFTWARE', COUNTRY='US', PERIOD_END_DATE=datetime.date(2024, 1, 31), CONTENT_CHUNK='snow-20240131 Table  of Contents  UNITED STATES SECURITIES AND EXCHANGE COMMISSION Washington, D.C. 20549 FORM  10-K   (Mark One) ☒ ANNUAL REPORT PURSUANT TO SECTION 13 OR 15(d) OF THE SECURITIES EXCHANGE ACT OF 1934  For the fiscal year ended  January 31 , 2024 OR ☐ TRANSITION REPORT PURSUANT TO SECTION 13 OR 15(d) OF THE SECURITIES EXCHANGE ACT OF 1934 For the transition period from           to   Commission file number:  001-39504   SNOWFLAKE INC.   (Exact name of registrant as specified in its charter) Delaware 46-0636374 (State or other jurisdiction of incorporation or organization) (I.R.S', EMBEDDING=[-0.022220227867364883, -0.020755713805556297, -0.04289441183209419, -0.022506648674607277, 0.04646274447441101, -0.04733029007911682, 0.038917653262615204, 0.05566238611936569, -0.010292566381394863, 0.0015837238170206547, -0.02946218103170395, 0.053590256720781326, -0.05272615700960159, 0.016535740345716476, -0.04408184811472893, 0.04935620725154877, 0.009087441489100456, -0.016225960105657578, 0.08472642302513123, -0.06997282058000565, -0.05504141375422478, -0.027067560702562332, 0.049303825944662094, -0.0006956009892746806, 0.02682509459555149, 0.025276923552155495, -0.034455396234989166, 0.03606495261192322, -0.05838915333151817, -0.01927347108721733, 0.022213688120245934, 0.05334494635462761, 0.01165454089641571, -0.024913586676120758, -0.006835225969552994, 0.057463474571704865, -0.06640870869159698, -0.047755271196365356, -0.03823194280266762, -0.03641728311777115, 0.0073310923762619495, -0.0266643688082695, -0.03780987113714218, -0.002900250954553485, -0.03901860862970352, -0.038241054862737656, -0.024891233071684837, 0.0022773800883442163, -0.03186177462339401, -0.019421210512518883, -0.04654441773891449, 0.006025061011314392, 0.006948002614080906, -0.009141332469880581, -0.04105397313833237, -0.0010945224203169346, -0.021727479994297028, -0.03713475167751312, -0.021513257175683975, -0.022908736020326614, 0.07501674443483353, -9.890521141642239e-06, 0.012375161983072758, -0.02577211707830429, 0.026272770017385483, 0.01960156112909317, 0.029403919354081154, 0.048204220831394196, -0.0795922577381134, -0.037045110017061234, -0.03847222030162811, -0.021682586520910263, -0.03157595917582512, 0.010500961914658546, 0.0013628792949020863, 2.9504122721846215e-05, 0.0060264035128057, 0.05714861676096916, 0.04803551360964775, 0.029089350253343582, -0.008367261849343777, -0.02586316131055355, 0.02581675723195076, 0.02679642289876938, 0.0012272895546630025, -0.0400957427918911, -0.041439756751060486, -0.0031148174311965704, -0.04754475876688957, 0.062477290630340576, -0.04116230085492134, 0.0020221518352627754, 0.04825625568628311, 0.018412675708532333, 0.024131229147315025, -0.013913575559854507, 0.01271987333893776, -0.03451994061470032, 0.027197498828172684, -0.02921549789607525, -0.028676383197307587, -0.026475194841623306, -0.035253290086984634, 0.022974319756031036, -0.0949597880244255, -0.00117133476305753, 0.017994048073887825, -0.00597730278968811, 0.003158767241984606, 0.030375322327017784, -0.035182878375053406, -0.004596011713147163, -0.05713042616844177, -0.010247436352074146, -0.017561763525009155, 0.053343746811151505, 0.055645816028118134, -0.04003230854868889, -0.014022602699697018, -0.016688358038663864, 0.025550730526447296, 0.03657924011349678, 0.05302973836660385, 0.010427896864712238, 0.04283585399389267, 0.03202442452311516, -0.021231457591056824, 0.04793381318449974, -0.03278031200170517, -0.04548150300979614, -0.013736643828451633, 0.002212285529822111, 0.02098163589835167, -0.0028323386795818806, 0.010460385121405125, -0.06634166836738586, -0.03313222527503967, -0.03975054994225502, 0.02891477197408676, -0.016545061022043228, 0.008523874916136265, 0.018865671008825302, 0.004797930829226971, -0.030185993760824203, 0.04721452668309212, -0.015888530761003494, -0.018187720328569412, -0.025212731212377548, -0.09823527187108994, 0.04874172434210777, 0.005024343729019165, 0.005638527683913708, 0.033469296991825104, -0.017823392525315285, -0.006873650010675192, 0.047630272805690765, 0.05085230991244316, -0.017501313239336014, -0.03374988213181496, 0.0238143689930439, 0.021999407559633255, 0.021283850073814392, 0.014283312484622002, 0.011187590658664703, -0.013980705291032791, -0.005979159381240606, 0.041855111718177795, -0.06548614054918289, 0.005402162671089172, 7.015292067080736e-05, -0.02168678306043148, -0.028248663991689682, 0.021886080503463745, -0.021578295156359673, -0.008558327332139015, 0.06317073851823807, 0.034561511129140854, 0.00966658629477024, -0.031382907181978226, 0.01387038640677929, -0.04919680580496788, 0.046992696821689606, 0.03511568531394005, 0.06542042642831802, -0.04698147252202034, -0.026369327679276466, 0.05869688838720322, -0.041320644319057465, 0.04544053599238396, 0.035156458616256714, -0.041318245232105255, -0.0157272107899189, 0.07346177846193314, -0.06057785451412201, 0.07562517374753952, -0.03708769381046295, -0.05550727993249893, 0.006217421498149633, 0.004654301330447197, 0.03661766275763512, 0.024617750197649002, 0.010729955509305, 0.03388721123337746, -0.05353381857275963, -0.05324554070830345, -0.01826525293290615, 0.00014833055320195854, 0.0028286990709602833, 0.025898540392518044, -0.00872703455388546, -0.0021637603640556335, -0.03769804537296295, 0.01812892220914364, -0.014101560227572918, 0.04408935084939003, -0.050707362592220306, 0.018713437020778656, -0.03641700744628906, 0.030580705031752586, -0.019920099526643753, 0.0916898101568222, -0.014089078642427921, -0.021922044456005096, 0.047475665807724, 0.016711154952645302, 0.04614083468914032, 0.03923027217388153, 0.005225202534347773, 0.03438429906964302, 0.008490652777254581, -0.014881747774779797, 0.006617090664803982, 0.00022680948313791305, -0.04853389412164688, 0.0056663863360881805, 0.012811604887247086, -0.01224756520241499, -0.0451224111020565, 0.032679565250873566, -0.029027923941612244, 0.010539614595472813, 0.07966939359903336, -0.01898288168013096, 0.02749963477253914, -0.03630160540342331, -0.001807740773074329, 0.052289191633462906, 0.029067978262901306, -0.033318497240543365, -0.04452306777238846, -0.05647258087992668, -0.005752841010689735, 0.012450235895812511, -0.028682619333267212, 0.0008822089293971658, 0.001683468115516007, 0.03788682073354721, 0.05776430293917656, 0.0411098450422287, 0.020923344418406487, 0.022690920159220695, -0.016704868525266647, 0.006498455069959164, -0.024223940446972847, -0.03466685861349106, -0.029227862134575844, -0.02672673389315605, -0.057296883314847946, 0.05592464655637741, 0.020182626321911812, 0.02317616529762745, 0.017318181693553925, 0.023122984915971756, 0.03574255108833313, 0.012949704192578793, -0.03872166946530342, 0.0417550690472126, -0.008683107793331146, -0.00471977423876524, -0.028677649796009064, -0.04482248052954674, 0.05056995525956154, -0.04214201867580414, -0.044749461114406586, 0.010607399977743626, -0.04096754267811775, 0.034109897911548615, -0.03937944397330284, -0.008732902817428112, -0.054933421313762665, 0.030456768348813057, 0.004249962978065014, -0.04411734268069267, -0.022907761856913567, 0.03918192535638809, -0.0013403806369751692, -0.019978869706392288, 0.020324379205703735, 0.009248243644833565, 0.05636274069547653, -0.0007753051468171179, 0.013618020340800285, 0.042066335678100586, 0.027990704402327538, 0.007374261971563101, -0.05768421292304993, -0.02245578169822693, -0.033591825515031815, -0.01691463403403759, -0.008532016538083553, -0.05646602436900139, -0.03883074223995209, 0.05027772858738899, 0.0032284751068800688, 0.059743404388427734, -0.003303827252238989, -0.059031907469034195, -0.008495342917740345, -0.00746800797060132, -0.02940220944583416, 0.00992707908153534, 0.035006530582904816, 0.0022492771968245506, -0.026626471430063248, 0.0526428259909153, -0.028294868767261505, -0.02316201850771904, 0.010116464458405972, -0.044750094413757324, -0.04357660561800003, -0.019762031733989716, 0.027128150686621666, 0.011694549582898617, 0.021870583295822144, -0.012359674088656902, 0.0071971421130001545, -0.037499453872442245, -0.02343161776661873, -0.034730225801467896, -0.03650764375925064, 0.056037310510873795, 0.017376115545630455, 0.05456813797354698, -0.038418225944042206, 0.02996574342250824, -0.015022673644125462, -0.03756733611226082, -0.025575054809451103, -0.021861759945750237, -0.03955475240945816, -0.004076899494975805, 0.042642489075660706, 0.006473526358604431, 0.01248184498399496, -0.023682275786995888, -0.02402682788670063, -0.044456955045461655, 0.05040767788887024, 0.02947123907506466, 0.01895907148718834, -0.004141136072576046, -0.009484081529080868, -0.02432633936405182, -0.006218513008207083, -0.005325932055711746, 0.03399790823459625, -0.0465862974524498, -0.024204513058066368, 0.056718844920396805, -0.015534323640167713, -0.003118222812190652, -0.07595666497945786, -0.038034047931432724, -0.08535444736480713, -0.03877559304237366, -0.0339592769742012, 0.0729416161775589, 0.052664224058389664, -0.0017005305271595716, 0.01805482618510723, 0.0017753487918525934, -0.17115560173988342, -0.03967307135462761, 0.004203102085739374, -0.010141009464859962, 0.0484786331653595, 0.052969951182603836, 0.04861537739634514, -0.04266241192817688, 0.0013147402787581086, 0.026338746771216393, 0.020807091146707535, -0.03715307638049126, -0.027636123821139336, -0.015526647679507732, 0.05211188271641731, -0.036421217024326324, -0.06096053496003151, 0.04449537768959999, -0.038715701550245285, -0.026455700397491455, 0.028263775631785393, 0.023611443117260933, 0.02966458909213543, 0.007996276021003723, -0.0014396682381629944, 0.0007343994802795351, -0.027719834819436073, 0.017037708312273026, -0.06418511271476746, -0.052398260682821274, -0.08621907979249954, 0.03493078425526619, -0.034845054149627686, 0.0028511006385087967, 0.019917840138077736, 0.05125786364078522, -0.00019626655557658523, 0.03994273766875267, -0.05650473013520241, 0.004628760274499655, -0.07740800082683563, -0.013550749979913235, 0.008085046894848347, 0.030896568670868874, 0.024958821013569832, -0.011444822885096073, -0.009964482858777046, -0.04969940707087517, 0.02644238993525505, -0.0033530876971781254, -0.04947775602340698, -0.06536614149808884, 0.04008525237441063, -0.05181746929883957, -0.011488250456750393, 0.05641801282763481, 0.02196093462407589, -0.03761215880513191, -0.03312152624130249, 0.019589262083172798, 0.01777496561408043, 0.028589237481355667, 0.0713319405913353, -0.0023414120078086853, -0.006588950753211975, -0.017623823136091232, -0.06646610051393509, 0.051622744649648666, 0.026998838409781456, 0.04326537996530533, 0.028018569573760033, 0.03447072207927704, 0.060200393199920654, -0.023414185270667076, 0.030253227800130844, 0.01576933078467846, 0.04944278672337532, 0.026656420901417732, -0.043243419378995895, 0.006670902483165264, -0.017745183780789375, -0.04970565065741539, -0.007456544321030378, 0.07032405585050583, -0.03974339738488197, -0.015236803330481052, -0.02268807217478752, -0.00020497053628787398, -0.06808043271303177, -0.027441341429948807, -0.005137511529028416, 0.02547697350382805, 0.030917275696992874, 0.01429485622793436, -0.000551290693692863, -0.004289928358048201, -0.0008533971267752349, 0.020603755488991737, -0.0450667142868042, -0.021765226498246193, -0.0026470255106687546, -0.05042754486203194, 0.02848924696445465, -0.028179800137877464, -0.05720212683081627, 0.05323418602347374, 0.03994167596101761, 0.02255997620522976, -0.046075232326984406, -0.052948690950870514, 0.033533524721860886, 0.018250703811645508, -0.018994519487023354, -0.04173441603779793, -0.006017523352056742, -0.0054036835208535194, 0.019206909462809563, -0.0006668657879345119, -0.01703888177871704, -0.0033455640077590942, 0.018959561362862587, -0.02471310645341873, -0.05086049064993858, -0.006118050776422024, 0.037884920835494995, -0.028265073895454407, 0.012970316223800182, -0.028083281591534615, -0.024220777675509453, -0.06379424780607224, 0.02687537483870983, 0.03591141849756241, -0.0298905149102211, 0.0015803331043571234, -0.010936938226222992, -0.011173324659466743, 0.005544988438487053, -0.01883336715400219, -0.07974003255367279, -0.03916275128722191, 0.0011249076342210174, 0.012638225220143795, -0.02277367003262043, 0.03515613451600075, 0.04857040196657181, 0.05049733817577362, -0.01753312721848488, 0.0012955641141161323, -0.004866763483732939, -0.008289085701107979, -0.01693989895284176, -0.027532946318387985, 0.04359324648976326, -0.006169019266963005, 4.6489913074765354e-05, -0.009235645644366741, -0.05990832298994064, 0.06847622245550156, 0.0014938603853806853, -0.016928616911172867, 0.05105457827448845, 0.03350777179002762, -0.008635210804641247, -0.021120885387063026, 0.028114482760429382, -0.029781382530927658, 0.032230909913778305, 0.012970375828444958, 0.03162188082933426, -0.0670669823884964, -0.03553203120827675, -0.04125091806054115, 0.0412311777472496, 0.034987159073352814, 0.019123537465929985, 0.010906773619353771, 0.07178060710430145, -0.05594436824321747, 0.0006561097106896341, -0.01618698611855507, -0.03501126915216446, 0.05270697921514511, -0.03072640858590603, 0.013626654632389545, 0.020270781591534615, -0.039468441158533096, -0.004098908044397831, -0.031621575355529785, 0.04057104140520096, -0.033998578786849976, 0.007536441553384066, 0.035399194806814194, 0.034365568310022354, -0.0009730660240165889, -0.029721654951572418, 0.08038497716188431, 0.005444198381155729, 0.013760258443653584, -0.03943047672510147, 0.0510212667286396, 0.03270907700061798, 0.060945238918066025, 0.060709692537784576, -0.023312244564294815, -0.0368114709854126, 0.027201831340789795, -0.04734460264444351, -0.048700373619794846, 0.030847396701574326, -0.03294918313622475, 0.02187955752015114, 0.033566154539585114, -0.030765550211071968, 0.01399940624833107, 0.005378211382776499, -0.06698273122310638, 0.0028738840483129025, 0.011724112555384636, 0.0464400053024292, -0.017593566328287125, 0.014520447701215744, -0.01305406540632248, 0.032491523772478104, 0.031176600605249405, 0.04226214066147804, -0.04044260457158089, 0.02329428493976593, -0.02309614233672619, 0.08029445260763168, 0.03918062150478363, -0.041664354503154755, -0.047578949481248856, 0.017222844064235687, -0.015651386231184006, -0.0036273631267249584, 0.03944211080670357, -0.011598395183682442, 0.027622491121292114, -0.03429108485579491, 0.07336392253637314, 0.035955339670181274, -0.02694316953420639, 0.0004740908043459058, 0.07726925611495972, -0.0442185178399086, -0.005236279219388962, 0.022437307983636856, 0.02846221812069416, 0.002338309306651354, 0.056961435824632645, 0.010890457779169083, 0.01245827879756689, 0.03546644374728203, -0.01654195785522461, 0.03641420975327492, -0.029687533155083656, 0.0021479499991983175, 0.05175698176026344, 0.07678082585334778, 0.06570257246494293, 0.02436906285583973, -0.0166308730840683, -0.010973230004310608, 0.022321319207549095, -0.04906821995973587, 0.007347630336880684, 0.05715771019458771, -0.014664586633443832, 0.05803164094686508, 0.003802618710324168, 0.020669125020503998, 0.04341588169336319, 0.045788735151290894, 0.015496695414185524, -0.025993607938289642, 0.060741133987903595, 0.04197140410542488, 0.03974755480885506, -0.010501963086426258, -0.01156985480338335, -0.0028658881783485413, 0.02074262872338295, 0.03542027994990349, -0.034423474222421646, -0.000623991247266531, -0.021694017574191093, 0.004446654114872217, -0.028366051614284515, -0.02364189736545086, 0.06439760327339172, 0.02616020292043686, -0.04931165277957916, -0.04171305149793625, 0.0059158168733119965, -0.0071603087708354, 0.015271884389221668, 0.0073439995758235455, 0.020121322944760323, 0.018516313284635544, -0.039971623569726944, 0.038684211671352386, 0.023385483771562576, 0.05590420216321945, 0.024728279560804367, -0.013371896930038929, -0.03458039462566376, 0.01246461272239685, -1.3631481124320999e-05, -0.06674979627132416, -0.042060691863298416, -0.03695729374885559, -0.0011507131857797503, -0.005397555883973837, 0.05152270197868347, -0.002630718983709812, -0.03590294346213341, -0.003165802452713251, -0.03524751961231232, -0.023244645446538925, 0.004090712405741215, 0.0063042412512004375, -0.03822600096464157, -0.020407650619745255, 0.031664349138736725, 0.02261924557387829, 0.001105790724977851, 0.04103492200374603, 0.04909658804535866, 0.0381995290517807, -0.010604332201182842, -0.0037222185637801886, 0.012718411162495613, 0.042419034987688065, -0.043802596628665924, 0.02606401965022087, -0.04603219032287598, 0.007621553726494312, 0.03226009011268616, -0.0334680937230587, -0.04807513579726219, 0.06927147507667542, -0.006312542129307985, 0.017171772196888924, 0.010920009575784206, 0.03817305341362953, 0.010618478991091251, -0.033329516649246216, -0.054287753999233246, -0.006613622419536114, -0.014581875875592232, 0.04352198541164398, 0.011330587789416313, 0.056384384632110596, 0.047265369445085526, 0.01164408028125763, -0.010337041690945625, 0.038116972893476486, -0.07230668514966965, 0.01282490510493517, -0.03447698801755905, 0.06601002812385559, 0.035494934767484665, -0.05157247930765152, -0.053689658641815186, 0.07707762718200684, 0.01178815122693777, -0.054258640855550766, 0.036330681294202805, 0.06494709104299545, 0.04990744590759277, 0.008181395940482616, 0.008082704618573189, -0.04898333176970482, -0.0635795071721077, -0.037750404328107834, -0.06952358782291412, 0.03837740421295166, 0.04066639393568039, -0.01224764995276928, 0.043178558349609375, -0.05686601251363754, 0.050403714179992676, -0.009073802269995213, -0.03316102921962738, 0.011395346373319626, 0.03309197723865509, 0.05011742189526558], START_INDEX=12, DOCUMENT_INDEX_ROWNUM=1, ROWNUM=114886)]"
      ]
     },
     "execution_count": 10,
     "metadata": {},
     "output_type": "execute_result"
    }
   ],
   "source": [
    "(session.table(\"content_chunks_10k\")\n",
    "                 .filter(col(\"COMPANY_NAME\") == \"SNOWFLAKE INC.\")\n",
    "                 .order_by(col(\"ROWNUM\"))\n",
    "                 .limit(1)\n",
    "                 .collect()\n",
    "        )"
   ]
  },
  {
   "cell_type": "code",
   "execution_count": 11,
   "metadata": {},
   "outputs": [
    {
     "name": "stdout",
     "output_type": "stream",
     "text": [
      "Total chunks 574\n",
      "\n",
      "End of chunk 1:\n",
      "(Exact name of registrant as specified in its charter) Delaware 46-0636374 (State or other jurisdiction of incorporation or organization) (I.R.S\n",
      "\n",
      "\n",
      "Beginning of chunk 2:\n",
      "(Exact name of registrant as specified in its charter) Delaware 46-0636374 (State or other jurisdiction of incorporation or organization) (I.R.S. Employer Identification No.) Suite 3A ,  106 East Babc\n"
     ]
    }
   ],
   "source": [
    "chunks = (session.table(\"content_chunks_10k\")\n",
    "                 .filter(col(\"COMPANY_NAME\") == \"SNOWFLAKE INC.\")\n",
    "                 .order_by(col(\"ROWNUM\"))\n",
    "                 .collect()\n",
    "        )\n",
    "\n",
    "# these indexes will be different if you use different chunk or overlap settings\n",
    "print(f\"Total chunks {len(chunks)}\\n\")\n",
    "\n",
    "print(\"End of chunk 1:\")\n",
    "print(chunks[0][\"CONTENT_CHUNK\"][457:])\n",
    "print(\"\\n\")\n",
    "\n",
    "print(\"Beginning of chunk 2:\")\n",
    "print(chunks[1][\"CONTENT_CHUNK\"][:200])"
   ]
  },
  {
   "cell_type": "markdown",
   "metadata": {},
   "source": [
    "### Use Vector Distance Functions to find information relevant to users questions"
   ]
  },
  {
   "cell_type": "markdown",
   "metadata": {},
   "source": [
    "Retrieve relevant information from the database"
   ]
  },
  {
   "cell_type": "code",
   "execution_count": 12,
   "metadata": {},
   "outputs": [
    {
     "name": "stdout",
     "output_type": "stream",
     "text": [
      "See the section titled “Key Business Metrics” for a definition of net revenue retention rate. Our platform is used globally by organizations of all sizes across a broad range of industries. As of January 31, 2024, we had 9,437 total customers, increasing from 7,744 customers as of January 31, 2023. Our customer count is subject to adjustments for acquisitions, consolidations, spin-offs, and other market activity, and we present our total customer count for historical periods reflecting these adjustments. Our platform has been adopted by many of the world’s largest organizations that view Snowflake as a key strategic partner in their cloud and data transformation initiatives. As of January 31, 2024, our customers included 691 of the Forbes Global 2000, based on the 2023 Forbes Global 2000 list, and those customers contributed approximately 41% of our revenue for the fiscal year ended January 31, 2024\n",
      "Our platform is the innovative technology that powers the Data Cloud, enabling customers to consolidate data into a single source of truth to drive meaningful insights, apply AI to solve business problems, build data applications, and share data and data products. We provide our platform through a customer-centric, consumption-based business model, only charging customers for the resources they use.  Snowflake solves the decades-old problem of data silos and data governance. Leveraging the elasticity and performance of the public cloud, our platform enables customers to unify and query data to support a wide variety of use cases. It also provides frictionless and governed data access so users can securely share data inside and outside of their organizations, generally without copying or moving the underlying data. As a result, customers can blend existing data with new data for broader context, augment data science efforts, and create new monetization streams\n",
      "In addition, many customers are attempting to rationalize budgets, prioritize cash flow management, and optimize consumption amidst macroeconomic uncertainty. While this makes it difficult to predict customer adoption rates and future demand, we believe that the benefits of our platform put us in a strong position to capture the significant market opportunity ahead. Our platform powers the Data Cloud, a network of data providers, data consumers, and data application developers that enables our customers to securely share, monetize, and acquire live data sets and data products. The Data Cloud includes access to the Snowflake Marketplace, through which customers can access or acquire third-party data sets, data applications, and other data products. Our future growth is increasingly dependent on our ability to increase consumption of our platform by building and expanding the Data Cloud\n"
     ]
    }
   ],
   "source": [
    "user_question = \"How many customers does Snowflake have?\"\n",
    "res = session.sql(\n",
    "f\"\"\"\n",
    "select \n",
    "    content_chunk\n",
    "from \n",
    "    content_chunks_10k\n",
    "where \n",
    "    company_name = 'SNOWFLAKE INC.'\n",
    "order by \n",
    "    vector_cosine_distance(embedding, \n",
    "                           snowflake.cortex.embed_text_768('e5_base_v2', '{user_question}')\n",
    "                           ) desc\n",
    "limit 3                \n",
    "\"\"\").collect()\n",
    "\n",
    "for r in res:\n",
    "    print(r[\"CONTENT_CHUNK\"])"
   ]
  },
  {
   "cell_type": "markdown",
   "metadata": {},
   "source": [
    "Feed retreived information from database into an LLM prompt and use `Complete` fucntion."
   ]
  },
  {
   "cell_type": "code",
   "execution_count": 13,
   "metadata": {},
   "outputs": [
    {
     "data": {
      "text/plain": [
       "' As of January 31, 2024, Snowflake had 9,437 customers.'"
      ]
     },
     "execution_count": 13,
     "metadata": {},
     "output_type": "execute_result"
    }
   ],
   "source": [
    "user_question = \"How many customers does Snowflake have?\"\n",
    "session.sql(f\"\"\"\n",
    "select \n",
    "    snowflake.cortex.complete('mistral-7b',\n",
    "                              concat_ws(chr(10), \n",
    "                                        'Answer the question using the context provided.',\n",
    "                                        'Be concise.',\n",
    "                                        'Context:',\n",
    "                                        '####',\n",
    "                                        content_chunk,\n",
    "                                        '####',\n",
    "                                        'Question:',\n",
    "                                        '{user_question}')\n",
    "                            ) as llm_response\n",
    "from \n",
    "    content_chunks_10k\n",
    "where \n",
    "    company_name = 'SNOWFLAKE INC.'\n",
    "order by \n",
    "    vector_cosine_distance(embedding, \n",
    "                           snowflake.cortex.embed_text_768('e5_base_v2', '{user_question}')\n",
    "                           ) desc\n",
    "limit 1               \n",
    "\"\"\").collect()[0][\"LLM_RESPONSE\"]"
   ]
  },
  {
   "cell_type": "markdown",
   "metadata": {},
   "source": [
    "### Use Cortex Search Service\n",
    "Cortex Search does not use the `embed_text_868` function output when we create `content_chunks_10k` above. The Cortex Search Service handles our embeddings for us. \n",
    "\n",
    "[https://docs.snowflake.com/LIMITEDACCESS/cortex-search/query-cortex-search-service](https://docs.snowflake.com/LIMITEDACCESS/cortex-search/query-cortex-search-service)"
   ]
  },
  {
   "cell_type": "code",
   "execution_count": 14,
   "metadata": {},
   "outputs": [],
   "source": [
    "# create search service on chunked data\n",
    "session.sql(\n",
    "\"\"\"\n",
    "CREATE OR REPLACE CORTEX SEARCH SERVICE SEC_10K_SEARCH_SERVICE\n",
    "  ON content_chunk\n",
    "  ATTRIBUTES company_name\n",
    "  WAREHOUSE = xsmall\n",
    "  TARGET_LAG = '1 hour'\n",
    "  AS (\n",
    "    SELECT\n",
    "        content_chunk,\n",
    "        company_name,\n",
    "        sec_document_id,\n",
    "        start_index\n",
    "    FROM content_chunks_10k\n",
    "    )\n",
    "\"\"\").collect();"
   ]
  },
  {
   "cell_type": "code",
   "execution_count": 15,
   "metadata": {},
   "outputs": [],
   "source": [
    "# access search service through Python API\n",
    "root = Root(session)\n",
    "search_service = (root\n",
    "                  .databases[\"SEC_CORTEX_DEMO\"]\n",
    "                  .schemas[\"PUBLIC\"]\n",
    "                  .cortex_search_services[\"SEC_10K_SEARCH_SERVICE\"]\n",
    ")"
   ]
  },
  {
   "cell_type": "code",
   "execution_count": 16,
   "metadata": {},
   "outputs": [
    {
     "data": {
      "text/plain": [
       "['See the section titled “Key Business Metrics” for a definition of net revenue retention rate. Our platform is used globally by organizations of all sizes across a broad range of industries. As of January 31, 2024, we had 9,437 total customers, increasing from 7,744 customers as of January 31, 2023. Our customer count is subject to adjustments for acquisitions, consolidations, spin-offs, and other market activity, and we present our total customer count for historical periods reflecting these adjustments. Our platform has been adopted by many of the world’s largest organizations that view Snowflake as a key strategic partner in their cloud and data transformation initiatives. As of January 31, 2024, our customers included 691 of the Forbes Global 2000, based on the 2023 Forbes Global 2000 list, and those customers contributed approximately 41% of our revenue for the fiscal year ended January 31, 2024',\n",
       " '79 Table of Contents SNOWFLAKE INC. NOTES TO CONSOLIDATED FINANCIAL STATEMENTS 1.  Organization and Description of Business Snowflake Inc. (Snowflake or the Company) provides a cloud-based data platform, which enables customers to consolidate data into a single source of truth to drive meaningful insights, apply AI to solve business problems, build data applications, and share data and data products. The Company provides its platform through a customer-centric, consumption-based business model, only charging customers for the resources they use. Through its platform, the Company delivers the Data Cloud, a network where Snowflake customers, partners, developers, data providers, and data consumers can break down data silos and derive value from rapidly growing data sets in secure, governed, and compliant ways. Snowflake was incorporated in the state of Delaware on July 23, 2012. 2',\n",
       " 'Our platform is the innovative technology that powers the Data Cloud, enabling customers to consolidate data into a single source of truth to drive meaningful insights, apply AI to solve business problems, build data applications, and share data and data products. We provide our platform through a customer-centric, consumption-based business model, only charging customers for the resources they use.  Snowflake solves the decades-old problem of data silos and data governance. Leveraging the elasticity and performance of the public cloud, our platform enables customers to unify and query data to support a wide variety of use cases. It also provides frictionless and governed data access so users can securely share data inside and outside of their organizations, generally without copying or moving the underlying data. As a result, customers can blend existing data with new data for broader context, augment data science efforts, and create new monetization streams']"
      ]
     },
     "execution_count": 16,
     "metadata": {},
     "output_type": "execute_result"
    }
   ],
   "source": [
    "user_question = \"How many customers does Snowflake have?\"\n",
    "resp = search_service.search(\n",
    "    user_question,\n",
    "    columns=[\"CONTENT_CHUNK\",\"SEC_DOCUMENT_ID\"],\n",
    "    filter={\"@eq\": {\"COMPANY_NAME\": \"SNOWFLAKE INC.\"} },\n",
    "    limit=3,\n",
    ")\n",
    "[c[\"CONTENT_CHUNK\"] for c in resp.results]"
   ]
  },
  {
   "cell_type": "markdown",
   "metadata": {},
   "source": [
    "Create prompt"
   ]
  },
  {
   "cell_type": "code",
   "execution_count": 17,
   "metadata": {},
   "outputs": [
    {
     "name": "stdout",
     "output_type": "stream",
     "text": [
      "\n",
      "Use the context provided to answer the question. Be concise. \n",
      "Context:\n",
      "####\n",
      "See the section titled “Key Business Metrics” for a definition of net revenue retention rate. Our platform is used globally by organizations of all sizes across a broad range of industries. As of January 31, 2024, we had 9,437 total customers, increasing from 7,744 customers as of January 31, 2023. Our customer count is subject to adjustments for acquisitions, consolidations, spin-offs, and other market activity, and we present our total customer count for historical periods reflecting these adjustments. Our platform has been adopted by many of the world’s largest organizations that view Snowflake as a key strategic partner in their cloud and data transformation initiatives. As of January 31, 2024, our customers included 691 of the Forbes Global 2000, based on the 2023 Forbes Global 2000 list, and those customers contributed approximately 41% of our revenue for the fiscal year ended January 31, 2024\n",
      "79 Table of Contents SNOWFLAKE INC. NOTES TO CONSOLIDATED FINANCIAL STATEMENTS 1.  Organization and Description of Business Snowflake Inc. (Snowflake or the Company) provides a cloud-based data platform, which enables customers to consolidate data into a single source of truth to drive meaningful insights, apply AI to solve business problems, build data applications, and share data and data products. The Company provides its platform through a customer-centric, consumption-based business model, only charging customers for the resources they use. Through its platform, the Company delivers the Data Cloud, a network where Snowflake customers, partners, developers, data providers, and data consumers can break down data silos and derive value from rapidly growing data sets in secure, governed, and compliant ways. Snowflake was incorporated in the state of Delaware on July 23, 2012. 2\n",
      "Our platform is the innovative technology that powers the Data Cloud, enabling customers to consolidate data into a single source of truth to drive meaningful insights, apply AI to solve business problems, build data applications, and share data and data products. We provide our platform through a customer-centric, consumption-based business model, only charging customers for the resources they use.  Snowflake solves the decades-old problem of data silos and data governance. Leveraging the elasticity and performance of the public cloud, our platform enables customers to unify and query data to support a wide variety of use cases. It also provides frictionless and governed data access so users can securely share data inside and outside of their organizations, generally without copying or moving the underlying data. As a result, customers can blend existing data with new data for broader context, augment data science efforts, and create new monetization streams\n",
      "####\n",
      "Question: How many customers does Snowflake have?\n",
      "\n"
     ]
    }
   ],
   "source": [
    "context = '\\n'.join([c[\"CONTENT_CHUNK\"] for c in resp.results])\n",
    "\n",
    "prompt = f\"\"\"\n",
    "Use the context provided to answer the question. Be concise. \n",
    "Context:\n",
    "####\n",
    "{context}\n",
    "####\n",
    "Question: {user_question}\n",
    "\"\"\"\n",
    "print(prompt)"
   ]
  },
  {
   "cell_type": "markdown",
   "metadata": {},
   "source": [
    "Feed prompt to LLM to get a user-friendly response"
   ]
  },
  {
   "cell_type": "code",
   "execution_count": 18,
   "metadata": {},
   "outputs": [
    {
     "data": {
      "text/plain": [
       "' As of January 31, 2024, Snowflake had 9,437 total customers.'"
      ]
     },
     "execution_count": 18,
     "metadata": {},
     "output_type": "execute_result"
    }
   ],
   "source": [
    "Complete('mistral-7b',\n",
    "         prompt\n",
    ")"
   ]
  }
 ],
 "metadata": {
  "kernelspec": {
   "display_name": ".env",
   "language": "python",
   "name": "python3"
  },
  "language_info": {
   "codemirror_mode": {
    "name": "ipython",
    "version": 3
   },
   "file_extension": ".py",
   "mimetype": "text/x-python",
   "name": "python",
   "nbconvert_exporter": "python",
   "pygments_lexer": "ipython3",
   "version": "3.10.13"
  }
 },
 "nbformat": 4,
 "nbformat_minor": 2
}
